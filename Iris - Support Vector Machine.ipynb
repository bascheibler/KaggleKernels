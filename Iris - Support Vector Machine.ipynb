{
  "cells": [
    {
      "metadata": {
        "_uuid": "8f2839f25d086af736a60e9eeb907d3b93b6e0e5",
        "_cell_guid": "b1076dfc-b9ad-4769-8c92-a6c4dae69d19",
        "trusted": true,
        "collapsed": true
      },
      "cell_type": "code",
      "source": "import os\nprint(os.listdir(\"../input\"))",
      "execution_count": 1,
      "outputs": []
    },
    {
      "metadata": {
        "_cell_guid": "79c7e3d0-c299-4dcb-8224-4455121ee9b0",
        "collapsed": true,
        "_uuid": "d629ff2d2480ee46fbb7e2d37f6b5fab8052498a",
        "trusted": true
      },
      "cell_type": "code",
      "source": "import pandas as pd\nimport numpy as np\nimport seaborn as sns\nfrom matplotlib import pyplot as plt\n%matplotlib inline",
      "execution_count": 2,
      "outputs": []
    },
    {
      "metadata": {
        "trusted": true,
        "collapsed": true,
        "_uuid": "f5a9bfcba4d2f2f249b77564cbb1d7d20b6fa510"
      },
      "cell_type": "code",
      "source": "iris = pd.read_csv(\"../input/Iris.csv\")",
      "execution_count": 3,
      "outputs": []
    },
    {
      "metadata": {
        "trusted": true,
        "_uuid": "2285a9603a91a12adab487cca7a7157901eb9524",
        "collapsed": true
      },
      "cell_type": "code",
      "source": "iris.head()",
      "execution_count": 4,
      "outputs": []
    },
    {
      "metadata": {
        "trusted": true,
        "_uuid": "929c21ddeb7e33587e24ed66d82070c024353c50",
        "collapsed": true
      },
      "cell_type": "code",
      "source": "sns.pairplot(iris,hue='Species')",
      "execution_count": 6,
      "outputs": []
    },
    {
      "metadata": {
        "trusted": true,
        "_uuid": "3f53a298546bed13bc5011ee9d1e965fd78578e8",
        "collapsed": true
      },
      "cell_type": "code",
      "source": "sns.jointplot(x='SepalWidthCm',y='SepalLengthCm',data=iris[iris['Species']=='Iris-setosa'][['SepalLengthCm','SepalWidthCm']],kind='kde')",
      "execution_count": 9,
      "outputs": []
    },
    {
      "metadata": {
        "trusted": true,
        "collapsed": true,
        "_uuid": "14d46d16d6ceac5c8a20b0dd72b0c231cbf0a072"
      },
      "cell_type": "code",
      "source": "from sklearn.model_selection import train_test_split",
      "execution_count": 10,
      "outputs": []
    },
    {
      "metadata": {
        "trusted": true,
        "collapsed": true,
        "_uuid": "ab0b690c9f996288f981ba05ae14d7dca66844e9"
      },
      "cell_type": "code",
      "source": "X = iris.drop('Species',axis=1)\ny = iris['Species']\n\nX_train, X_test, y_train, y_test = train_test_split(X, y, test_size=0.30)",
      "execution_count": 11,
      "outputs": []
    },
    {
      "metadata": {
        "trusted": true,
        "collapsed": true,
        "_uuid": "c2dff17fb72f894a0166bf6a0e606c3e40b70c77"
      },
      "cell_type": "code",
      "source": "from sklearn.svm import SVC",
      "execution_count": 12,
      "outputs": []
    },
    {
      "metadata": {
        "trusted": true,
        "collapsed": true,
        "_uuid": "92b0388e1600c2a820fbd7b54ee2b86bb614f5f6"
      },
      "cell_type": "code",
      "source": "model = SVC()",
      "execution_count": 13,
      "outputs": []
    },
    {
      "metadata": {
        "trusted": true,
        "_uuid": "632766b3118492945870158f85c379c93a5a79d7",
        "collapsed": true
      },
      "cell_type": "code",
      "source": "model.fit(X_train,y_train)",
      "execution_count": 14,
      "outputs": []
    },
    {
      "metadata": {
        "trusted": true,
        "collapsed": true,
        "_uuid": "1dc01817f24cc90067c65e39c694980ab19eb498"
      },
      "cell_type": "code",
      "source": "predictions = model.predict(X_test)",
      "execution_count": 15,
      "outputs": []
    },
    {
      "metadata": {
        "trusted": true,
        "collapsed": true,
        "_uuid": "35d3d306948db574b5819fc209c63411675c48b3"
      },
      "cell_type": "code",
      "source": "from sklearn.metrics import classification_report, confusion_matrix",
      "execution_count": 16,
      "outputs": []
    },
    {
      "metadata": {
        "trusted": true,
        "_uuid": "8a8f802f0f5f6efb5979f89bd9ade740029b0078",
        "collapsed": true
      },
      "cell_type": "code",
      "source": "print(confusion_matrix(y_test,predictions))\nprint(chr(10))\nprint(classification_report(y_test,predictions))",
      "execution_count": 17,
      "outputs": []
    },
    {
      "metadata": {
        "trusted": true,
        "collapsed": true,
        "_uuid": "b92d240d2d6c6fab7a566b72f30e2b90b77cb06a"
      },
      "cell_type": "code",
      "source": "",
      "execution_count": null,
      "outputs": []
    }
  ],
  "metadata": {
    "kernelspec": {
      "display_name": "Python 3",
      "language": "python",
      "name": "python3"
    },
    "language_info": {
      "name": "python",
      "version": "3.6.5",
      "mimetype": "text/x-python",
      "codemirror_mode": {
        "name": "ipython",
        "version": 3
      },
      "pygments_lexer": "ipython3",
      "nbconvert_exporter": "python",
      "file_extension": ".py"
    }
  },
  "nbformat": 4,
  "nbformat_minor": 1
}